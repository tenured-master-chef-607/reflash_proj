{
 "cells": [
  {
   "cell_type": "code",
   "execution_count": 1,
   "metadata": {},
   "outputs": [],
   "source": [
    "import sys\n",
    "import os\n",
    "import json\n",
    "import pandas as pd\n",
    "import numpy as np\n",
    "import json\n",
    "\n",
    "# used files: get_all_tables.py, fetchAllData.js, get_all_tables.js\n",
    "\n",
    "sys.path.append(os.path.abspath(\".\"))\n",
    "\n",
    "from data.get_all_tables import get_all_tables, fetch_table_data"
   ]
  },
  {
   "cell_type": "code",
   "execution_count": 2,
   "metadata": {},
   "outputs": [
    {
     "name": "stdout",
     "output_type": "stream",
     "text": [
      "['accounting_invoices', 'accounting_invoice_applied_credit_notes', 'accounting_expense_lines', 'accounting_income_statements', 'accounting_company_info', 'accounting_invoice_line_items', 'accounting_journal_entries', 'accounting_balance_sheets', 'integration_connections', 'sources', 'ref_integration_platform', 'organization_user', 'accounting_transactions', 'accounting_accounts', 'accounting_expenses', 'accounting_cash_flow_statements', 'accounting_transaction_line_items', 'accounting_invoice_applied_vendor_credits', 'accounting_journal_entry_lines', 'organization']\n"
     ]
    }
   ],
   "source": [
    "table_names = get_all_tables()\n",
    "print(table_names)"
   ]
  },
  {
   "cell_type": "code",
   "execution_count": 4,
   "metadata": {},
   "outputs": [],
   "source": [
    "data = {}\n",
    "table_names = get_all_tables()\n",
    "\n",
    "if table_names:\n",
    "    for table in table_names:\n",
    "\n",
    "        table_data = fetch_table_data(table)\n",
    "        if table_data is not None:\n",
    "            data[table] = table_data \n",
    "\n",
    "    with open(\"data.json\", \"w\") as f:\n",
    "        json.dump(data, f, indent=4) \n",
    "else:\n",
    "    print(\"No tables found\")\n",
    "    sys.exit(1)"
   ]
  },
  {
   "cell_type": "code",
   "execution_count": 6,
   "metadata": {},
   "outputs": [
    {
     "name": "stdout",
     "output_type": "stream",
     "text": [
      "dict_keys(['accounting_invoices', 'accounting_invoice_applied_credit_notes', 'accounting_expense_lines', 'accounting_income_statements', 'accounting_company_info', 'accounting_invoice_line_items', 'accounting_journal_entries', 'accounting_balance_sheets', 'integration_connections', 'sources', 'ref_integration_platform', 'organization_user', 'accounting_transactions', 'accounting_accounts', 'accounting_expenses', 'accounting_cash_flow_statements', 'accounting_transaction_line_items', 'accounting_invoice_applied_vendor_credits', 'accounting_journal_entry_lines', 'organization'])\n"
     ]
    }
   ],
   "source": [
    "print(data.keys())"
   ]
  },
  {
   "cell_type": "code",
   "execution_count": null,
   "metadata": {},
   "outputs": [],
   "source": []
  }
 ],
 "metadata": {
  "kernelspec": {
   "display_name": "general",
   "language": "python",
   "name": "python3"
  },
  "language_info": {
   "codemirror_mode": {
    "name": "ipython",
    "version": 3
   },
   "file_extension": ".py",
   "mimetype": "text/x-python",
   "name": "python",
   "nbconvert_exporter": "python",
   "pygments_lexer": "ipython3",
   "version": "3.11.9"
  }
 },
 "nbformat": 4,
 "nbformat_minor": 2
}
